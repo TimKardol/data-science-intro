{
 "cells": [
  {
   "cell_type": "code",
   "execution_count": 1,
   "metadata": {},
   "outputs": [],
   "source": [
    "import random"
   ]
  },
  {
   "cell_type": "markdown",
   "metadata": {},
   "source": [
    "# Lesson 1\n",
    "\n",
    "In this lesson you'll get introduced to Python, a very powerful scripting language. It's the most prevalent language in data science, which is why you'll use it this semester. As with any programming/scripting language, Python has a few quirky and a few \"yes, please!\" features.\n",
    "\n",
    "## Jupyter notebook\n",
    "\n",
    "Please note that I'll be using Jupyter Notebooks to teach you. All of this code works perfectly fine if you export it to a Python script (xxx.py file). In fact, a Jupyter Notebook itself is one big JSON file with both code and output defined. You can do whatever you want with that JSON structure. There's a few plugins that allow you to separate code and output. There's even a plugin that allows you to write your scripts in a separate file and then run them as a code cell.\n",
    "\n",
    "There is one big catch when using a Jupyter Notebook: all state is persistent. That means that variables defined in cell 1 will carry over to cell 150,000. It also means that if you overwrite a variable that is defined in cell 1 in cell 3, the rest of the notebook will run with the value of that variable from cell 3. Pretty much every \"huh, what, how?\" in Jupyter Notebook is caused by the persistent state. To solve this, you can restart the kernel and run the entire notebook again. You can also write better code. The latter option is preferred as the first one is just fighting symptoms of bad programming. This is especially true in a notebook, where it's very easy to write up a big garbled mess of interdepending code that is hard to debug.\n",
    "\n",
    "I will show the persistent state within this notebook, so pay attention to the commentary.\n",
    "\n",
    "## This lesson\n",
    "\n",
    "When this lesson is over, you can write simple programs with variables, functions, control flow and loops.\n"
   ]
  },
  {
   "cell_type": "markdown",
   "metadata": {},
   "source": [
    "## Let's begin!"
   ]
  },
  {
   "cell_type": "code",
   "execution_count": 2,
   "metadata": {},
   "outputs": [
    {
     "name": "stdout",
     "output_type": "stream",
     "text": [
      "Hello world!\n"
     ]
    }
   ],
   "source": [
    "print(\"Hello world!\")"
   ]
  },
  {
   "cell_type": "markdown",
   "metadata": {},
   "source": [
    "## Code cells\n",
    "\n",
    "You can make a new code cell by pressing the \"+\" sign in the above left corner. Or press \"shift + enter\". From the dropdown menu to the right in the same row, you can select what you want the cell to render. Usually, you choose either \"Code\" for Python code or \"Markdown\" for commentary. Just like this cell!\n",
    "\n",
    "To run a cell, either press \"Run\" (the play button) or \"ctrl + enter\" from within the cell you'd like to run. Under the \"Kernel\" option in the menu, there's options to run an entire notebook and more.\n",
    "\n",
    "### When in doubt\n",
    "\n",
    "There is also an option \"Restart and clear all outputs\", which essentially resets the whole notebook. It then runs all the code cells from top to bottom. This can be useful if you make some hard to debug mistakes, like the state overwriting we talked about earlier."
   ]
  },
  {
   "cell_type": "markdown",
   "metadata": {},
   "source": [
    "## Variables\n",
    "\n",
    "Python supports variables just like most other languages*. \n",
    "\n",
    "**Assignment (10 min)**: find out what the community standard style for naming is in Python. You can use the internet, for example: https://pep8.org/. When you've figured out how to use variables, create a new code cell and use three variables to describe yourself. For example, age, name and favorite song. Then create another cell and print the contents of the variables on a new line.\n",
    "\n",
    "*Name a language that does not support variables?"
   ]
  },
  {
   "cell_type": "code",
   "execution_count": 3,
   "metadata": {},
   "outputs": [],
   "source": [
    "name = \"Loek\"\n",
    "age = 26\n",
    "favorite_song = \"Love will tear us apart\""
   ]
  },
  {
   "cell_type": "code",
   "execution_count": 4,
   "metadata": {},
   "outputs": [
    {
     "name": "stdout",
     "output_type": "stream",
     "text": [
      "Loek\n",
      "26\n",
      "Love will tear us apart\n"
     ]
    }
   ],
   "source": [
    "print(name)\n",
    "print(age)\n",
    "print(favorite_song)"
   ]
  },
  {
   "cell_type": "markdown",
   "metadata": {},
   "source": [
    "**Assignment (5 min)**: Create a new code cell and overwrite one of the variables you wrote earlier. Then run the *printing* cell above again. Explain what happens in a Markdown cell and/or chat."
   ]
  },
  {
   "cell_type": "code",
   "execution_count": 5,
   "metadata": {},
   "outputs": [],
   "source": [
    "favorite_song = \"Welcome to the jungle\""
   ]
  },
  {
   "cell_type": "markdown",
   "metadata": {},
   "source": [
    "## Arithmetic\n",
    "\n",
    "Because you're going to have to. It is data ***science*** so...* Good thing: Python was developed by a mathematician, so this should be really intuitive.\n",
    "\n",
    "*Do you find maths exceptionally hard? Then it's not such a bad idea to take some extra lessons, online MOOCs or anything that helps. Data science eventually boils down to numbers and you need to understand what you can and (probably more important) can't do with those numbers."
   ]
  },
  {
   "cell_type": "code",
   "execution_count": 6,
   "metadata": {},
   "outputs": [
    {
     "name": "stdout",
     "output_type": "stream",
     "text": [
      "18\n",
      "-35\n",
      "20\n",
      "3.0\n",
      "1\n",
      "100\n",
      "nananananananananananananananana Batman!\n"
     ]
    }
   ],
   "source": [
    "# Addition\n",
    "print(10 + 8)\n",
    "\n",
    "# Subtraction\n",
    "print(5 - 40)\n",
    "\n",
    "# Multiplication\n",
    "print(5 * 4)\n",
    "\n",
    "# Division\n",
    "print(6 / 2)\n",
    "\n",
    "# Modulo\n",
    "print(100 % 3)\n",
    "\n",
    "# Powers\n",
    "print(10**2)\n",
    "\n",
    "# Unnecessary but still fun commands\n",
    "print(\"na\" * 16 + \" Batman!\")"
   ]
  },
  {
   "cell_type": "markdown",
   "metadata": {},
   "source": [
    "**Assignment (5 min)**: Think up an arithmetic exercise for a 12-year old. Create a new code cell. Save the exercise in a variable, then print the exercise along with the result on a single line. Use the documentation if you can't figure out how to do this: https://docs.python.org/3/"
   ]
  },
  {
   "cell_type": "code",
   "execution_count": 7,
   "metadata": {},
   "outputs": [
    {
     "name": "stdout",
     "output_type": "stream",
     "text": [
      "5 * (2 % 3) = 10\n",
      "5 * 3 - 6 + 8 / 2 - 4 * 3 = 1.0\n"
     ]
    }
   ],
   "source": [
    "answer = 5 * (2 % 3)\n",
    "print(\"5 * (2 % 3) = \" + str(answer))\n",
    "\n",
    "som = 5 * 3 - 6 + 8 / 2 -4 * 3\n",
    "text = \"5 * 3 - 6 + 8 / 2 - 4 * 3\"\n",
    "print(text, \"=\", som)"
   ]
  },
  {
   "cell_type": "markdown",
   "metadata": {},
   "source": [
    "## Quirky\n",
    "\n",
    "Before we continue, let's look at some stuff that can make Python... frustrating."
   ]
  },
  {
   "cell_type": "markdown",
   "metadata": {},
   "source": [
    "**Assignment (5 min)**: Copy the code in the code cell below. Run it. Explain the error."
   ]
  },
  {
   "cell_type": "code",
   "execution_count": 8,
   "metadata": {},
   "outputs": [
    {
     "ename": "SyntaxError",
     "evalue": "invalid syntax (<ipython-input-8-04879c05e432>, line 1)",
     "output_type": "error",
     "traceback": [
      "\u001b[1;36m  File \u001b[1;32m\"<ipython-input-8-04879c05e432>\"\u001b[1;36m, line \u001b[1;32m1\u001b[0m\n\u001b[1;33m    if (5 > 1) {\u001b[0m\n\u001b[1;37m               ^\u001b[0m\n\u001b[1;31mSyntaxError\u001b[0m\u001b[1;31m:\u001b[0m invalid syntax\n"
     ]
    }
   ],
   "source": [
    "if (5 > 1) {\n",
    "    print(\"Yay!\")\n",
    "} else {\n",
    "    print(\"Eeeeh...\")\n",
    "}"
   ]
  },
  {
   "cell_type": "markdown",
   "metadata": {},
   "source": [
    "## Syntaxis\n",
    "\n",
    "Python does a few things differently from other languages. The first thing you will notice is the complete lack of curly brackets in statements and expressions. This is because Python uses blocks of 4 *whitespaces* and colons ( : ).\n",
    "\n",
    "You really need to watch that whitespace. Ever put in 3 spaces instead of 4? Good luck debugging the completely incomprehensible error. Every not format your code decently? Good luck debugging the completely incomprehensible error.\n",
    "\n",
    "Also, Python was made as readable as the creator thought it was. So most parentheses \"()\" you need to use in other languages, are not necessary. I'll still use them however, so that the syntax resembles most other languages."
   ]
  },
  {
   "cell_type": "code",
   "execution_count": 9,
   "metadata": {},
   "outputs": [
    {
     "name": "stdout",
     "output_type": "stream",
     "text": [
      "Yay!\n",
      "Yay!\n"
     ]
    }
   ],
   "source": [
    "if (5 > 1):\n",
    "    print(\"Yay!\")\n",
    "else:\n",
    "    print(\"Eeeeh...\")\n",
    "    \n",
    "# You could also write the following. Note the missing parentheses. \n",
    "# Both ways are fine. Pick one and stick with it.\n",
    "if 5 > 1:\n",
    "    print(\"Yay!\")\n",
    "else:\n",
    "    print(\"Eeeeh...\")"
   ]
  },
  {
   "cell_type": "markdown",
   "metadata": {},
   "source": [
    "**Assignment (10 min)**: Generate a random number (again, documentation!) between 1 and 100. If the number is below 50, print \"Lower\". If it's between 50 and 75, print \"Better\" and if it's higher than 75, print \"Bestest!\"."
   ]
  },
  {
   "cell_type": "code",
   "execution_count": 10,
   "metadata": {},
   "outputs": [
    {
     "name": "stdout",
     "output_type": "stream",
     "text": [
      "96\n",
      "better\n"
     ]
    }
   ],
   "source": [
    "n = random.randint(1,100)\n",
    "print(n)\n",
    "\n",
    "if n < 50 :\n",
    "    print(\"lower\")\n",
    "elif n > 50 < 75 :\n",
    "    print(\"better\")\n",
    "else:\n",
    "    print (\"bestest!\")"
   ]
  },
  {
   "cell_type": "markdown",
   "metadata": {},
   "source": [
    "## Best practices\n",
    "\n",
    "You probably just imported some module `random`. This is a library, just as you could use one in JavaScript, TypeScript, Php and Java. It is good practice to put all necessary imports in the topmost cell of a notebook."
   ]
  },
  {
   "cell_type": "markdown",
   "metadata": {},
   "source": [
    "**Assignment (5 min)**: Create a cell at the top of the document. Place the import statement there. Now restart (and run) the kernel via the \"Kernel\" options in the menu bar at the top of the screen."
   ]
  },
  {
   "cell_type": "markdown",
   "metadata": {},
   "source": [
    "## Comments\n",
    "\n",
    "Python support single line and multiline comments."
   ]
  },
  {
   "cell_type": "code",
   "execution_count": null,
   "metadata": {},
   "outputs": [],
   "source": [
    "# This is a single line comment. Use the \"pound\" sign, or \"hashtag\"\n",
    "\n",
    "\"\"\"\n",
    "This is a multiline comment. Note the very awkward notation with\n",
    "three quotation marks. What's even weirder, is that those comments\n",
    "go *in* a function, instead of *above* when you use them as function\n",
    "documentation.\n",
    "\"\"\"\n",
    "\n",
    "def what_the_comment():\n",
    "    \"\"\"\n",
    "    So this is a valid function doc. Weird right?\n",
    "    \"\"\"\n",
    "    return \"lol k\""
   ]
  },
  {
   "cell_type": "markdown",
   "metadata": {},
   "source": [
    "## Loops\n",
    "\n",
    "Python understands for loops and while loops just like any other language. The for-loop in Python is usually used as a foreach-loop.\n",
    "\n",
    "Sidenote: the range(start, end) function returns a list of numbers from `start` to `end - 1`."
   ]
  },
  {
   "cell_type": "code",
   "execution_count": 11,
   "metadata": {},
   "outputs": [
    {
     "name": "stdout",
     "output_type": "stream",
     "text": [
      "0\n",
      "1\n",
      "2\n",
      "3\n",
      "4\n",
      "5\n",
      "6\n",
      "7\n",
      "8\n",
      "9\n"
     ]
    }
   ],
   "source": [
    "for i in range(0, 10):\n",
    "    print(i)"
   ]
  },
  {
   "cell_type": "markdown",
   "metadata": {},
   "source": [
    "**Assignment (5 min)**: Rewrite the for-loop as a while-loop."
   ]
  },
  {
   "cell_type": "code",
   "execution_count": 12,
   "metadata": {},
   "outputs": [
    {
     "name": "stdout",
     "output_type": "stream",
     "text": [
      "0\n",
      "1\n",
      "2\n",
      "3\n",
      "4\n",
      "5\n",
      "6\n",
      "7\n",
      "8\n",
      "9\n"
     ]
    }
   ],
   "source": [
    "i = 0\n",
    "while i < 10:\n",
    "    print(i)\n",
    "    i += 1"
   ]
  },
  {
   "cell_type": "markdown",
   "metadata": {},
   "source": [
    "## Data types\n",
    "\n",
    "Python is a dynamically, but strongly typed language. It will throw type errors only at runtime, but it isn't like JavaScript where everything is converted to pretty much anything. You can, however, cast types explicitely."
   ]
  },
  {
   "cell_type": "code",
   "execution_count": 13,
   "metadata": {},
   "outputs": [
    {
     "name": "stdout",
     "output_type": "stream",
     "text": [
      "<class 'int'>\n",
      "<class 'float'>\n",
      "3\n",
      "<class 'int'>\n"
     ]
    }
   ],
   "source": [
    "five = 5\n",
    "pi = 3.1415\n",
    "\n",
    "print(type(five))\n",
    "\n",
    "print(type(pi))\n",
    "\n",
    "print(int(pi))\n",
    "print(type(int(pi)))"
   ]
  },
  {
   "cell_type": "markdown",
   "metadata": {},
   "source": [
    "**Assignment (10 min)**: Find all primitive data types in Python. Describe them in a markdown cell and/or chat."
   ]
  },
  {
   "cell_type": "markdown",
   "metadata": {},
   "source": [
    "- Integer = geheel getal (5, -8, 45000)\n",
    "- Float = kommagetal (6.2, 9235.6, 3.29371057)\n",
    "- String = goh\n",
    "- Boolean = True of False\n",
    "- Complex = mag je weer vergeten: i = sqrt(-1)"
   ]
  },
  {
   "cell_type": "markdown",
   "metadata": {},
   "source": [
    "## Functions\n",
    "\n",
    "Python has functions just as any other decent programming language. The only difference is how you define them."
   ]
  },
  {
   "cell_type": "code",
   "execution_count": 14,
   "metadata": {},
   "outputs": [],
   "source": [
    "def my_cool_function():\n",
    "    print(\"This is from inside myCoolFunction!\")"
   ]
  },
  {
   "cell_type": "markdown",
   "metadata": {},
   "source": [
    "We're in a notebook and state is global for the whole notebook. Once we run the cell above, we can use the function throughout the notebook!"
   ]
  },
  {
   "cell_type": "code",
   "execution_count": 15,
   "metadata": {},
   "outputs": [
    {
     "name": "stdout",
     "output_type": "stream",
     "text": [
      "This is from inside myCoolFunction!\n"
     ]
    }
   ],
   "source": [
    "my_cool_function()"
   ]
  },
  {
   "cell_type": "markdown",
   "metadata": {},
   "source": [
    "**Assignment (5 min)**: Create a code cell somewhere above the function definition and call the function. Does it work? Now, restart and run the cell again. Does it still work? Why does it, or why doesn't it?"
   ]
  },
  {
   "cell_type": "markdown",
   "metadata": {},
   "source": [
    "## Parameters in functions\n",
    "\n",
    "Because global functions are dangerous."
   ]
  },
  {
   "cell_type": "code",
   "execution_count": 16,
   "metadata": {},
   "outputs": [],
   "source": [
    "def print_full_name(first_name, last_name):\n",
    "    print(first_name, last_name)"
   ]
  },
  {
   "cell_type": "code",
   "execution_count": 17,
   "metadata": {},
   "outputs": [
    {
     "name": "stdout",
     "output_type": "stream",
     "text": [
      "Loek van der Linde\n"
     ]
    }
   ],
   "source": [
    "print_full_name(\"Loek\", \"van der Linde\")"
   ]
  },
  {
   "cell_type": "markdown",
   "metadata": {},
   "source": [
    "**Assignment (20 minutes, including 10 minute break)**: Write a function with a parameter `getal`. The function should count down to 0. You can not assume that `getal` will always be higher than zero!\n",
    "\n",
    "Test 1: `your_function_name(5)` should print:\n",
    "\n",
    "```\n",
    "5\n",
    "4\n",
    "3\n",
    "2\n",
    "1\n",
    "```\n",
    "\n",
    "Test 2: `your_function_name(-2)` should print:\n",
    "\n",
    "```\n",
    "\"Afraid I can't do that, Dave\"\n",
    "```"
   ]
  },
  {
   "cell_type": "code",
   "execution_count": 18,
   "metadata": {},
   "outputs": [
    {
     "name": "stdout",
     "output_type": "stream",
     "text": [
      "5\n",
      "4\n",
      "3\n",
      "2\n",
      "1\n"
     ]
    }
   ],
   "source": [
    "def print_numbers(number):\n",
    "    if (number <= 0):\n",
    "        print(\"Afraid I can't do that, Dave\")\n",
    "    else:\n",
    "        while number > 0:\n",
    "            print(number)\n",
    "            number = number - 1\n",
    "            \n",
    "print_numbers(5)"
   ]
  },
  {
   "cell_type": "markdown",
   "metadata": {},
   "source": [
    "## Best thing evah\n",
    "\n",
    "Python supports named parameters. This is heaven. You will use it a lot and there's good reason for it."
   ]
  },
  {
   "cell_type": "markdown",
   "metadata": {},
   "source": [
    "**Assignment (1 min)**: What is the output of the following code?"
   ]
  },
  {
   "cell_type": "code",
   "execution_count": 19,
   "metadata": {},
   "outputs": [
    {
     "name": "stdout",
     "output_type": "stream",
     "text": [
      "Loek van der Linde\n"
     ]
    }
   ],
   "source": [
    "print_full_name(last_name = \"van der Linde\", first_name = \"Loek\")"
   ]
  },
  {
   "cell_type": "markdown",
   "metadata": {},
   "source": [
    "## Return of the function\n",
    "\n",
    "Python supports returns, like any language should"
   ]
  },
  {
   "cell_type": "code",
   "execution_count": 1,
   "metadata": {},
   "outputs": [],
   "source": [
    "def my():\n",
    "    return \"Precioooouuuuussssss\""
   ]
  },
  {
   "cell_type": "markdown",
   "metadata": {},
   "source": [
    "## One function to rule them all\n",
    "\n",
    "> Which way to Mordor, Gandalf? Left or Right? ~ Frodo, 25 December 3018, TA, Rivendell"
   ]
  },
  {
   "cell_type": "code",
   "execution_count": 21,
   "metadata": {},
   "outputs": [
    {
     "name": "stdout",
     "output_type": "stream",
     "text": [
      "Help on built-in function max in module builtins:\n",
      "\n",
      "max(...)\n",
      "    max(iterable, *[, default=obj, key=func]) -> value\n",
      "    max(arg1, arg2, *args, *[, key=func]) -> value\n",
      "    \n",
      "    With a single iterable argument, return its biggest item. The\n",
      "    default keyword-only argument specifies an object to return if\n",
      "    the provided iterable is empty.\n",
      "    With two or more arguments, return the largest argument.\n",
      "\n"
     ]
    }
   ],
   "source": [
    "help(max) # ctrl + i works as well in JupyterLab"
   ]
  },
  {
   "cell_type": "markdown",
   "metadata": {},
   "source": [
    "**Assignment (15 min)**: Use only the `help` function as above. Using the documentation for the `max` function, write two functions. The first function should accept two numbers and return the highest. The second function should accept an *iterable* of numbers and return the highest number as well.\n",
    "\n",
    "Tip: don't stress. The documentation can look vague at first. Decipher what the different sections mean. Then translate the word \"iterable\" and you'll probably understand what it means."
   ]
  },
  {
   "cell_type": "code",
   "execution_count": 22,
   "metadata": {},
   "outputs": [
    {
     "name": "stdout",
     "output_type": "stream",
     "text": [
      "12\n",
      "6\n"
     ]
    }
   ],
   "source": [
    "def highest(a, b):\n",
    "    return max(a, b)\n",
    "\n",
    "print(highest(12, 10))\n",
    "\n",
    "def highest_iterable(iterable):\n",
    "    return max(iterable)\n",
    "\n",
    "print(highest_iterable([1, 6, 3, 4, 5]))"
   ]
  },
  {
   "cell_type": "markdown",
   "metadata": {},
   "source": [
    "## Lists, Dictionaries, Tuples and all that stuff\n",
    "\n",
    "Python is a bit stricter than most scripting languages when it comes to composite data types. Especially when compared to Php, where you can mostly do anything you want with any data type. JavaScript is a decent comparison, so pay attention."
   ]
  },
  {
   "cell_type": "markdown",
   "metadata": {},
   "source": [
    "### Lists\n",
    "\n",
    "Most people call these arrays, but an array is actually something else*. When we talk about lists, we mean an indexed list of values. Think of JavaScript. You can mash together all kinds of datatypes in a list, it is up to you to decide how useful that is. Protip: don't.\n",
    "\n",
    "*https://www.geeksforgeeks.org/difference-between-list-and-array-in-python/"
   ]
  },
  {
   "cell_type": "code",
   "execution_count": 2,
   "metadata": {},
   "outputs": [],
   "source": [
    "numbers = [1, 2, 3, 4, 5]\n",
    "lecturers = [\"Gert\", \"Mischa\", \"Greg\", \"Loek\"]\n",
    "the_horror = [1, [\"haha\", \"lol\", 42], \"screw_this\", 0x0043, [[\"nested\"], 12345], 8.22]"
   ]
  },
  {
   "cell_type": "markdown",
   "metadata": {},
   "source": [
    "**Assignment (1 min)**: Create a list with at least 4 hobbies, passions, things you like to do. Put the list in a variable and print it."
   ]
  },
  {
   "cell_type": "markdown",
   "metadata": {},
   "source": [
    "### Dictionary\n",
    "\n",
    "Strictly seen, a dictionary is a hash-table (look it up if you want). You can compare it really well with a JSON object. You even write them the same way! \n",
    "\n",
    "Note that since a dictionary is a hashtable, it is incredibly quick for calculations. Whereas in Php you would use arrays for everything, in Python you should think well if you need a list or a dictionary. Dictionaries are about 1000 times faster than lists.\n",
    "\n",
    "**Rule of thumb**: if order is important and index matters --> list. Any other case --> dictionary."
   ]
  },
  {
   "cell_type": "markdown",
   "metadata": {},
   "source": [
    "**Assignment (10 min)**: Revisit the exercise where you needed to describe yourself in variables. Redo the exercise in a new code, but now use a dictionary. Save the dictionary in a variable. Use the hobbies variable from above in your dictionary. Finally, print at least 2 properties. Again, feel free to use the docs."
   ]
  },
  {
   "cell_type": "code",
   "execution_count": 24,
   "metadata": {},
   "outputs": [
    {
     "name": "stdout",
     "output_type": "stream",
     "text": [
      "Loek\n",
      "Les geven\n"
     ]
    }
   ],
   "source": [
    "me = {\n",
    "    \"name\": \"Loek\",\n",
    "    \"age\": 26,\n",
    "    \"favorite_song\": \"Love will tear us apart\",\n",
    "    \"hobbies\": [\"Muziek!\", \"Les geven\", \"Gamen\"]\n",
    "}\n",
    "\n",
    "print(me[\"name\"])\n",
    "print(me[\"hobbies\"][1])"
   ]
  },
  {
   "cell_type": "markdown",
   "metadata": {},
   "source": [
    "### Tuples\n",
    "\n",
    "This is probably new for all of you. The official definition for a tuple is:\n",
    "\n",
    "> a tuple is a finite ordered list (sequence) of elements.\n",
    "\n",
    "Informally, a tuple is a list of elements that \"belong\" to each other. The most obvious example is a row in a database table. You can't change one of the elements without changing the \"meaning\" of the rest of the elements.\n",
    "\n",
    "Let's say we have a database record for the lecturer, with columns `name`, `age`, `course`. Then the tuple would be `(\"Loek\", 26, \"Data Science Introduction 1\")`. Note the use of normal parentheses `()` instead of square brackets `[]` for a list. Now, if we change of the values, I would not be the lecturer anymore. This is what we mean with \"belonging\" to each other."
   ]
  },
  {
   "cell_type": "markdown",
   "metadata": {},
   "source": [
    "**Assignment (1 min)**: Think of a tuple you are definitely going to use in the project?"
   ]
  },
  {
   "cell_type": "code",
   "execution_count": null,
   "metadata": {},
   "outputs": [],
   "source": []
  },
  {
   "cell_type": "markdown",
   "metadata": {},
   "source": [
    "**Assignment (10 min)**: Create a list of at least 5 tuples. The tuples should contain at least three values. For example: a car with `color`, `speed` and `name`. Then, use a loop to print all the names (or other property) of your tuples.\n",
    "\n",
    "Keep in mind: tuples should always have the same order, else you will encounter some proper weird stuff..."
   ]
  },
  {
   "cell_type": "code",
   "execution_count": 25,
   "metadata": {},
   "outputs": [
    {
     "name": "stdout",
     "output_type": "stream",
     "text": [
      "transporter\n",
      "a4\n",
      "impreza\n",
      "ka\n",
      "astra\n"
     ]
    }
   ],
   "source": [
    "cars = [\n",
    "    (\"black\", 170, \"transporter\"),\n",
    "    (\"black\", 240, \"a4\"),\n",
    "    (\"blue\", 220, \"impreza\"),\n",
    "    (\"yellow\", 120, \"ka\"),\n",
    "    (\"green\", 130, \"astra\")\n",
    "]\n",
    "\n",
    "for car in cars:\n",
    "    print(car[2])"
   ]
  },
  {
   "cell_type": "markdown",
   "metadata": {},
   "source": [
    "## Putting it all together\n",
    "\n",
    "**Assignment (+/- 30 min)**: This can be homework if the lecture runs to the time limit.\n",
    "\n",
    "Create a function `get_best_student`. It takes a list as parameter. The list contains at least 3 dictionaries. The dictionaries contain 3 properties: `name`, `age`, `highest_grades`. The last property is again a list that contains three grades.\n",
    "\n",
    "The function returns a tuple with the `name`, `age` and `highest_grade` (single grade, not multiple!) of the student that has the highest grade overall. If multiple students have the same highest grade, the function can just return the first student.\n",
    "\n",
    "So, it should work like this:"
   ]
  },
  {
   "cell_type": "code",
   "execution_count": 35,
   "metadata": {},
   "outputs": [],
   "source": [
    "def get_best_student(students):\n",
    "    # Implementation here\n",
    "    highest_grade = 0\n",
    "    best_student = {}\n",
    "    \n",
    "    for student in students:\n",
    "#         print(max(student[\"highest_grades\"]))\n",
    "        student_highest_grade = max(student[\"highest_grades\"])\n",
    "        \n",
    "        if student_highest_grade > highest_grade:\n",
    "            highest_grade = student_highest_grade\n",
    "            best_student = student\n",
    "    \n",
    "#     print(highest_grade)\n",
    "    \n",
    "    return (best_student[\"name\"], best_student[\"age\"], highest_grade)"
   ]
  },
  {
   "cell_type": "code",
   "execution_count": 36,
   "metadata": {},
   "outputs": [
    {
     "name": "stdout",
     "output_type": "stream",
     "text": [
      "('Paul', 29, 10)\n"
     ]
    }
   ],
   "source": [
    "students = [\n",
    "    {\n",
    "        \"name\": \"John\",\n",
    "        \"age\": 30,\n",
    "        \"highest_grades\":[5, 5, 8]\n",
    "    },\n",
    "    {\n",
    "        \"name\": \"Paul\",\n",
    "        \"age\": 29,\n",
    "        \"highest_grades\": [7, 10, 4]\n",
    "    },\n",
    "    {\n",
    "        \"name\": \"George\",\n",
    "        \"age\": 35,\n",
    "        \"highest_grades\": [9, 9, 6]\n",
    "    }\n",
    "]\n",
    "\n",
    "print(get_best_student(students))\n",
    "# Output: (\"Paul\", 29, 10)"
   ]
  },
  {
   "cell_type": "code",
   "execution_count": null,
   "metadata": {},
   "outputs": [],
   "source": []
  }
 ],
 "metadata": {
  "kernelspec": {
   "display_name": "Python 3",
   "language": "python",
   "name": "python3"
  },
  "language_info": {
   "codemirror_mode": {
    "name": "ipython",
    "version": 3
   },
   "file_extension": ".py",
   "mimetype": "text/x-python",
   "name": "python",
   "nbconvert_exporter": "python",
   "pygments_lexer": "ipython3",
   "version": "3.8.5"
  }
 },
 "nbformat": 4,
 "nbformat_minor": 4
}
