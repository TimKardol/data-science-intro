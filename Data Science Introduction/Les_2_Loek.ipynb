{
 "cells": [
  {
   "cell_type": "markdown",
   "metadata": {},
   "source": [
    "# Lesson 2\n",
    "\n",
    "In this lesson you'll get introduced to Pandas, a very powerful library for data science. It is among the most used tools in data science, which is why you'll use it this semester.\n",
    "\n",
    "## Jupyter notebook\n",
    "\n",
    "Please note that I'll be using Jupyter Notebooks to teach you. All of this code works perfectly fine if you export it to a Python script (xxx.py file). In fact, a Jupyter Notebook itself is one big JSON file with both code and output defined. You can do whatever you want with that JSON structure. There's a few plugins that allow you to separate code and output. There's even a plugin that allows you to write your scripts in a separate file and then run them as a code cell.\n",
    "\n",
    "## This lesson\n",
    "\n",
    "When this lesson is over, you can write programs that read datasets, perform some filterings and groupings on them, and gain true understanding of your data as a result!"
   ]
  },
  {
   "cell_type": "markdown",
   "metadata": {},
   "source": [
    "## The dataset\n",
    "\n",
    "We'll use Kaggle's [Video Games Sales Dataset](https://www.kaggle.com/sidtwr/videogames-sales-dataset), especially the [.csv file for all video games](https://www.kaggle.com/sidtwr/videogames-sales-dataset?select=Video_Games_Sales_as_at_22_Dec_2016.csv). It's up for grabs at [Learn.HZ](https://learn.hz.nl) as well.\n",
    "\n",
    "Please download the file and put it in a directory next to this notebook. Other directories are fine as well, but you'll have to debug your own paths since Python can be quite unintuitive about them if you don't know what you're doing."
   ]
  },
  {
   "cell_type": "code",
   "execution_count": 1,
   "metadata": {},
   "outputs": [
    {
     "name": "stdout",
     "output_type": "stream",
     "text": [
      "Let's look at the homework from previous lesson first!\n"
     ]
    }
   ],
   "source": [
    "try:\n",
    "    with open(\"./Video_Games_sales_as_at_22_Dec_2016.csv\") as f:\n",
    "        print(\"Let's look at the homework from previous lesson first!\")\n",
    "except IOError:\n",
    "        print(\"File is not there! :(\")"
   ]
  },
  {
   "cell_type": "markdown",
   "metadata": {},
   "source": [
    "## Don't forget them imports!\n",
    "\n",
    "Note that we abbreviate the import. This isn't necessary but pretty much everyone uses these abbreviations. So might as well get used to it as a best practice."
   ]
  },
  {
   "cell_type": "code",
   "execution_count": 2,
   "metadata": {},
   "outputs": [],
   "source": [
    "import pandas as pd"
   ]
  },
  {
   "cell_type": "markdown",
   "metadata": {},
   "source": [
    "## Dataframe\n",
    "\n",
    "Pandas uses *Dataframes*, something directly leveraged from the R language. A dataframe sounds nice, and while it is, it is essentially a table. Let's read it in and take a look at it. We use the `read_csv` function because our dataset is in .csv format. Note that the `read_csv` function contains a lot of parameters, for example for delimiters. You will probably need to use those in your own datasets."
   ]
  },
  {
   "cell_type": "code",
   "execution_count": 3,
   "metadata": {},
   "outputs": [],
   "source": [
    "df = pd.read_csv(\"./Video_Games_sales_as_at_22_Dec_2016.csv\", delimiter=\";\")"
   ]
  },
  {
   "cell_type": "markdown",
   "metadata": {},
   "source": [
    "Normally, you would need to write some elegant code to print complicated datatypes to your screen. But in Jupyter, you can just create a cell that contains only the variable name and then it automatically prints it for you."
   ]
  },
  {
   "cell_type": "code",
   "execution_count": 4,
   "metadata": {},
   "outputs": [
    {
     "data": {
      "text/html": [
       "<div>\n",
       "<style scoped>\n",
       "    .dataframe tbody tr th:only-of-type {\n",
       "        vertical-align: middle;\n",
       "    }\n",
       "\n",
       "    .dataframe tbody tr th {\n",
       "        vertical-align: top;\n",
       "    }\n",
       "\n",
       "    .dataframe thead th {\n",
       "        text-align: right;\n",
       "    }\n",
       "</style>\n",
       "<table border=\"1\" class=\"dataframe\">\n",
       "  <thead>\n",
       "    <tr style=\"text-align: right;\">\n",
       "      <th></th>\n",
       "      <th>Name</th>\n",
       "      <th>Platform</th>\n",
       "      <th>Year_of_Release</th>\n",
       "      <th>Genre</th>\n",
       "      <th>Publisher</th>\n",
       "      <th>NA_Sales</th>\n",
       "      <th>EU_Sales</th>\n",
       "      <th>JP_Sales</th>\n",
       "      <th>Other_Sales</th>\n",
       "      <th>Global_Sales</th>\n",
       "      <th>Critic_Score</th>\n",
       "      <th>Critic_Count</th>\n",
       "      <th>User_Score</th>\n",
       "      <th>User_Count</th>\n",
       "      <th>Developer</th>\n",
       "      <th>Rating</th>\n",
       "    </tr>\n",
       "  </thead>\n",
       "  <tbody>\n",
       "    <tr>\n",
       "      <th>0</th>\n",
       "      <td>Wii Sports</td>\n",
       "      <td>Wii</td>\n",
       "      <td>2006.0</td>\n",
       "      <td>Sports</td>\n",
       "      <td>Nintendo</td>\n",
       "      <td>41.36</td>\n",
       "      <td>28.96</td>\n",
       "      <td>3.77</td>\n",
       "      <td>8.45</td>\n",
       "      <td>82.53</td>\n",
       "      <td>76.0</td>\n",
       "      <td>51.0</td>\n",
       "      <td>8.0</td>\n",
       "      <td>322.0</td>\n",
       "      <td>Nintendo</td>\n",
       "      <td>E</td>\n",
       "    </tr>\n",
       "    <tr>\n",
       "      <th>1</th>\n",
       "      <td>Super Mario Bros.</td>\n",
       "      <td>NES</td>\n",
       "      <td>1985.0</td>\n",
       "      <td>Platform</td>\n",
       "      <td>Nintendo</td>\n",
       "      <td>29.08</td>\n",
       "      <td>3.58</td>\n",
       "      <td>6.81</td>\n",
       "      <td>0.77</td>\n",
       "      <td>40.24</td>\n",
       "      <td>NaN</td>\n",
       "      <td>NaN</td>\n",
       "      <td>NaN</td>\n",
       "      <td>NaN</td>\n",
       "      <td>NaN</td>\n",
       "      <td>NaN</td>\n",
       "    </tr>\n",
       "    <tr>\n",
       "      <th>2</th>\n",
       "      <td>Mario Kart Wii</td>\n",
       "      <td>Wii</td>\n",
       "      <td>2008.0</td>\n",
       "      <td>Racing</td>\n",
       "      <td>Nintendo</td>\n",
       "      <td>15.68</td>\n",
       "      <td>12.76</td>\n",
       "      <td>3.79</td>\n",
       "      <td>3.29</td>\n",
       "      <td>35.52</td>\n",
       "      <td>82.0</td>\n",
       "      <td>73.0</td>\n",
       "      <td>8.3</td>\n",
       "      <td>709.0</td>\n",
       "      <td>Nintendo</td>\n",
       "      <td>E</td>\n",
       "    </tr>\n",
       "    <tr>\n",
       "      <th>3</th>\n",
       "      <td>Wii Sports Resort</td>\n",
       "      <td>Wii</td>\n",
       "      <td>2009.0</td>\n",
       "      <td>Sports</td>\n",
       "      <td>Nintendo</td>\n",
       "      <td>15.61</td>\n",
       "      <td>10.93</td>\n",
       "      <td>3.28</td>\n",
       "      <td>2.95</td>\n",
       "      <td>32.77</td>\n",
       "      <td>80.0</td>\n",
       "      <td>73.0</td>\n",
       "      <td>8.0</td>\n",
       "      <td>192.0</td>\n",
       "      <td>Nintendo</td>\n",
       "      <td>E</td>\n",
       "    </tr>\n",
       "    <tr>\n",
       "      <th>4</th>\n",
       "      <td>Pokemon Red/Pokemon Blue</td>\n",
       "      <td>GB</td>\n",
       "      <td>1996.0</td>\n",
       "      <td>Role-Playing</td>\n",
       "      <td>Nintendo</td>\n",
       "      <td>11.27</td>\n",
       "      <td>8.89</td>\n",
       "      <td>10.22</td>\n",
       "      <td>1.00</td>\n",
       "      <td>31.37</td>\n",
       "      <td>NaN</td>\n",
       "      <td>NaN</td>\n",
       "      <td>NaN</td>\n",
       "      <td>NaN</td>\n",
       "      <td>NaN</td>\n",
       "      <td>NaN</td>\n",
       "    </tr>\n",
       "    <tr>\n",
       "      <th>...</th>\n",
       "      <td>...</td>\n",
       "      <td>...</td>\n",
       "      <td>...</td>\n",
       "      <td>...</td>\n",
       "      <td>...</td>\n",
       "      <td>...</td>\n",
       "      <td>...</td>\n",
       "      <td>...</td>\n",
       "      <td>...</td>\n",
       "      <td>...</td>\n",
       "      <td>...</td>\n",
       "      <td>...</td>\n",
       "      <td>...</td>\n",
       "      <td>...</td>\n",
       "      <td>...</td>\n",
       "      <td>...</td>\n",
       "    </tr>\n",
       "    <tr>\n",
       "      <th>16714</th>\n",
       "      <td>Samurai Warriors: Sanada Maru</td>\n",
       "      <td>PS3</td>\n",
       "      <td>2016.0</td>\n",
       "      <td>Action</td>\n",
       "      <td>Tecmo Koei</td>\n",
       "      <td>0.00</td>\n",
       "      <td>0.00</td>\n",
       "      <td>0.01</td>\n",
       "      <td>0.00</td>\n",
       "      <td>0.01</td>\n",
       "      <td>NaN</td>\n",
       "      <td>NaN</td>\n",
       "      <td>NaN</td>\n",
       "      <td>NaN</td>\n",
       "      <td>NaN</td>\n",
       "      <td>NaN</td>\n",
       "    </tr>\n",
       "    <tr>\n",
       "      <th>16715</th>\n",
       "      <td>LMA Manager 2007</td>\n",
       "      <td>X360</td>\n",
       "      <td>2006.0</td>\n",
       "      <td>Sports</td>\n",
       "      <td>Codemasters</td>\n",
       "      <td>0.00</td>\n",
       "      <td>0.01</td>\n",
       "      <td>0.00</td>\n",
       "      <td>0.00</td>\n",
       "      <td>0.01</td>\n",
       "      <td>NaN</td>\n",
       "      <td>NaN</td>\n",
       "      <td>NaN</td>\n",
       "      <td>NaN</td>\n",
       "      <td>NaN</td>\n",
       "      <td>NaN</td>\n",
       "    </tr>\n",
       "    <tr>\n",
       "      <th>16716</th>\n",
       "      <td>Haitaka no Psychedelica</td>\n",
       "      <td>PSV</td>\n",
       "      <td>2016.0</td>\n",
       "      <td>Adventure</td>\n",
       "      <td>Idea Factory</td>\n",
       "      <td>0.00</td>\n",
       "      <td>0.00</td>\n",
       "      <td>0.01</td>\n",
       "      <td>0.00</td>\n",
       "      <td>0.01</td>\n",
       "      <td>NaN</td>\n",
       "      <td>NaN</td>\n",
       "      <td>NaN</td>\n",
       "      <td>NaN</td>\n",
       "      <td>NaN</td>\n",
       "      <td>NaN</td>\n",
       "    </tr>\n",
       "    <tr>\n",
       "      <th>16717</th>\n",
       "      <td>Spirits &amp; Spells</td>\n",
       "      <td>GBA</td>\n",
       "      <td>2003.0</td>\n",
       "      <td>Platform</td>\n",
       "      <td>Wanadoo</td>\n",
       "      <td>0.01</td>\n",
       "      <td>0.00</td>\n",
       "      <td>0.00</td>\n",
       "      <td>0.00</td>\n",
       "      <td>0.01</td>\n",
       "      <td>NaN</td>\n",
       "      <td>NaN</td>\n",
       "      <td>NaN</td>\n",
       "      <td>NaN</td>\n",
       "      <td>NaN</td>\n",
       "      <td>NaN</td>\n",
       "    </tr>\n",
       "    <tr>\n",
       "      <th>16718</th>\n",
       "      <td>Winning Post 8 2016</td>\n",
       "      <td>PSV</td>\n",
       "      <td>2016.0</td>\n",
       "      <td>Simulation</td>\n",
       "      <td>Tecmo Koei</td>\n",
       "      <td>0.00</td>\n",
       "      <td>0.00</td>\n",
       "      <td>0.01</td>\n",
       "      <td>0.00</td>\n",
       "      <td>0.01</td>\n",
       "      <td>NaN</td>\n",
       "      <td>NaN</td>\n",
       "      <td>NaN</td>\n",
       "      <td>NaN</td>\n",
       "      <td>NaN</td>\n",
       "      <td>NaN</td>\n",
       "    </tr>\n",
       "  </tbody>\n",
       "</table>\n",
       "<p>16719 rows × 16 columns</p>\n",
       "</div>"
      ],
      "text/plain": [
       "                                Name Platform  Year_of_Release         Genre  \\\n",
       "0                         Wii Sports      Wii           2006.0        Sports   \n",
       "1                  Super Mario Bros.      NES           1985.0      Platform   \n",
       "2                     Mario Kart Wii      Wii           2008.0        Racing   \n",
       "3                  Wii Sports Resort      Wii           2009.0        Sports   \n",
       "4           Pokemon Red/Pokemon Blue       GB           1996.0  Role-Playing   \n",
       "...                              ...      ...              ...           ...   \n",
       "16714  Samurai Warriors: Sanada Maru      PS3           2016.0        Action   \n",
       "16715               LMA Manager 2007     X360           2006.0        Sports   \n",
       "16716        Haitaka no Psychedelica      PSV           2016.0     Adventure   \n",
       "16717               Spirits & Spells      GBA           2003.0      Platform   \n",
       "16718            Winning Post 8 2016      PSV           2016.0    Simulation   \n",
       "\n",
       "          Publisher  NA_Sales  EU_Sales  JP_Sales  Other_Sales  Global_Sales  \\\n",
       "0          Nintendo     41.36     28.96      3.77         8.45         82.53   \n",
       "1          Nintendo     29.08      3.58      6.81         0.77         40.24   \n",
       "2          Nintendo     15.68     12.76      3.79         3.29         35.52   \n",
       "3          Nintendo     15.61     10.93      3.28         2.95         32.77   \n",
       "4          Nintendo     11.27      8.89     10.22         1.00         31.37   \n",
       "...             ...       ...       ...       ...          ...           ...   \n",
       "16714    Tecmo Koei      0.00      0.00      0.01         0.00          0.01   \n",
       "16715   Codemasters      0.00      0.01      0.00         0.00          0.01   \n",
       "16716  Idea Factory      0.00      0.00      0.01         0.00          0.01   \n",
       "16717       Wanadoo      0.01      0.00      0.00         0.00          0.01   \n",
       "16718    Tecmo Koei      0.00      0.00      0.01         0.00          0.01   \n",
       "\n",
       "       Critic_Score  Critic_Count  User_Score  User_Count Developer Rating  \n",
       "0              76.0          51.0         8.0       322.0  Nintendo      E  \n",
       "1               NaN           NaN         NaN         NaN       NaN    NaN  \n",
       "2              82.0          73.0         8.3       709.0  Nintendo      E  \n",
       "3              80.0          73.0         8.0       192.0  Nintendo      E  \n",
       "4               NaN           NaN         NaN         NaN       NaN    NaN  \n",
       "...             ...           ...         ...         ...       ...    ...  \n",
       "16714           NaN           NaN         NaN         NaN       NaN    NaN  \n",
       "16715           NaN           NaN         NaN         NaN       NaN    NaN  \n",
       "16716           NaN           NaN         NaN         NaN       NaN    NaN  \n",
       "16717           NaN           NaN         NaN         NaN       NaN    NaN  \n",
       "16718           NaN           NaN         NaN         NaN       NaN    NaN  \n",
       "\n",
       "[16719 rows x 16 columns]"
      ]
     },
     "execution_count": 4,
     "metadata": {},
     "output_type": "execute_result"
    }
   ],
   "source": [
    "df"
   ]
  },
  {
   "cell_type": "markdown",
   "metadata": {},
   "source": [
    "**Assignment (10 min)**: Answer the following questions\n",
    "\n",
    "1. How many rows does the dataframe contain? **16719**\n",
    "2. How many columns does the dataframe contain? **16**\n",
    "3. How many cells are there in the dataframe? **267.504**\n",
    "4. Does every cell actually contain data? **No, there are quite some `NaN` cells**\n",
    "5. Are there columns you don't understand? **Rating? This is the ESRB rating, the US' Kijkwijzer**\n",
    "6. Are there columns with data that probably mean something else than what is literally there? **Sales. A game like Wii Sports will probably have been  sold 41 million times instead of just 41**.\n",
    "7. What is the unit of analysis? **The entity you are going to analyze. Throughout this lesson, we will change this unit of analysis, pay close attention!**\n",
    "8. What is the unit of observation? **A unit of observation is literally the entity you are \"observing\". In this case, a game.**\n",
    "9. Is there weird data in any of the cells for so far as you can see? (weird = i.e. 8 billion sales, or -100) **A couple of Sales cells are 0.00?**"
   ]
  },
  {
   "cell_type": "code",
   "execution_count": null,
   "metadata": {},
   "outputs": [],
   "source": []
  },
  {
   "cell_type": "markdown",
   "metadata": {},
   "source": [
    "**Assignment (5 min)**: You are now in the Business Understanding and Data Understanding phase of the CRISP-DM cycle. Write down at least three questions to ask your imaginary client based on your observations of the dataframe above."
   ]
  },
  {
   "cell_type": "code",
   "execution_count": null,
   "metadata": {},
   "outputs": [],
   "source": []
  },
  {
   "cell_type": "markdown",
   "metadata": {},
   "source": [
    "## Using Pandas\n",
    "\n",
    "Let's take a closer look at the data itself. I've identified a couple of curious things in it for you, to save time. After all, the goal of this lecture is to learn you the tools do start doing it yourself! Keep in mind that you would normally investigate most columns and rows. Don't underestimate how many hours it can take to get a good grasp of what the data is telling you. Spend time digging through it, very thoroughly! At least a couple of hours per week for the first quartile."
   ]
  },
  {
   "cell_type": "markdown",
   "metadata": {},
   "source": [
    "### Columns\n",
    "\n",
    "It is often useful to just count values in column, or check how many unique values there are. Selecting columns in a dataframe is like working with a dictionary: `variable_name[\"column_name\"]`. The `len()` function is a built-in Python function that checks how long (length) a list, dictionary or tuple is."
   ]
  },
  {
   "cell_type": "code",
   "execution_count": null,
   "metadata": {},
   "outputs": [],
   "source": [
    "amount_of_names = len(df[\"Name\"])\n",
    "unique_names = len(df[\"Name\"].unique())\n",
    "\n",
    "print(\"Contains\", amount_of_names, \"names\")\n",
    "print(\"Contains\", unique_names, \"unique names\")"
   ]
  },
  {
   "cell_type": "markdown",
   "metadata": {},
   "source": [
    "Hmm, there are approximately 5000 names that aren't unique. Let's find those!"
   ]
  },
  {
   "cell_type": "code",
   "execution_count": null,
   "metadata": {},
   "outputs": [],
   "source": [
    "df[\"Name\"].value_counts()"
   ]
  },
  {
   "cell_type": "markdown",
   "metadata": {},
   "source": [
    "**Assignment (3 min)**: Think of reasons why some games come up more than once in the dataset. Use your domain knowledge of gaming, or browse the internet to validate your answer"
   ]
  },
  {
   "cell_type": "code",
   "execution_count": null,
   "metadata": {},
   "outputs": [],
   "source": []
  },
  {
   "cell_type": "markdown",
   "metadata": {},
   "source": [
    "We could have, of course, just checked the data more closely to see what was going on. We will use the `duplicated` function in Pandas for this. Fortunately, we can see that our assumption is correct by comparing row 1 to row 5: GTA V was released on multiple platforms. Also note the quite awkward code to create the dataframe. We'll break down what is going on below."
   ]
  },
  {
   "cell_type": "code",
   "execution_count": null,
   "metadata": {},
   "outputs": [],
   "source": [
    "df[df.duplicated([\"Name\"])]"
   ]
  },
  {
   "cell_type": "markdown",
   "metadata": {},
   "source": [
    "Let's break down what the heck that awkward code means! `df.duplicated()` is a function that takes a column in the dataframe. Since we're calling the function **on** a dataframe, we don't have to specify the variable name of our dataframe when putting the column name in square brackets. The line below returns a Pandas Series object -- essentially an array -- with the index of every row in the dataframe. Behind that index is a boolean: does that row contain a duplicated name or not? This technique is also called *[masking](https://pythonhealthcare.org/2018/04/07/30-using-masks-to-filter-data-and-perform-search-and-replace-in-numpy-and-pandas/)*."
   ]
  },
  {
   "cell_type": "code",
   "execution_count": null,
   "metadata": {},
   "outputs": [],
   "source": [
    "mask = df.duplicated([\"Name\"])\n",
    "print(mask)"
   ]
  },
  {
   "cell_type": "markdown",
   "metadata": {},
   "source": [
    "If we now put this *mask* inside square brackets of the original dataframe again, Pandas understands that we only want to see the rows that contain a True value in the mask. It's a bit of magic that takes some getting used to, but is very powerful indeed. Note that the results below are exactly the same as above."
   ]
  },
  {
   "cell_type": "code",
   "execution_count": null,
   "metadata": {},
   "outputs": [],
   "source": [
    "df[mask]"
   ]
  },
  {
   "cell_type": "markdown",
   "metadata": {},
   "source": [
    "Since we're at least a little bit geeky, and I have some serious nostalgia for Need for Speed: Most Wanted, let's find out on which platforms it was released! We'll use a *mask* again. Note that this time we just write a boolean expression instead of using a function like `duplicated()`."
   ]
  },
  {
   "cell_type": "code",
   "execution_count": null,
   "metadata": {},
   "outputs": [],
   "source": [
    "df[df[\"Name\"] == \"Need for Speed: Most Wanted\"]"
   ]
  },
  {
   "cell_type": "markdown",
   "metadata": {},
   "source": [
    "Jupyter is kind enough to show the whole dataframe, but let's just practice taking out only the Platform values. Your datasets may be a lot larger than this one, and Jupyter will the abbreviate your dataframes when you print them..."
   ]
  },
  {
   "cell_type": "code",
   "execution_count": null,
   "metadata": {},
   "outputs": [],
   "source": [
    "df[df[\"Name\"] == \"Need for Speed: Most Wanted\"][\"Platform\"].unique()"
   ]
  },
  {
   "cell_type": "markdown",
   "metadata": {},
   "source": [
    "## Intermission\n",
    "\n",
    "Note that the line above is very much \"data scientist code\". It works, does what you want and does that well. And if you come back to that code in 6 months, you will absolutely have no clue what's going on. Since I'm a software engineer at heart, I will always encourage you to write a bit *better* code once you have done your preliminary digging around. Something like the cell below is, in my opinion, a better understandable version than that insane one-liner above. We will not grade the code you ~~will vomit at the screen~~ write, but we will grade your understanding of the code. Please keep that in mind every time you write code that you probably will not change for a while."
   ]
  },
  {
   "cell_type": "code",
   "execution_count": null,
   "metadata": {},
   "outputs": [],
   "source": [
    "nfs_mask = df[\"Name\"] == \"Need for Speed: Most Wanted\"\n",
    "nfs_df = df[nfs_mask]\n",
    "unique_platforms_for_nfs = nfs_df[\"Platform\"].unique()\n",
    "print(unique_platforms_for_nfs)"
   ]
  },
  {
   "cell_type": "markdown",
   "metadata": {},
   "source": [
    "## Your turn!"
   ]
  },
  {
   "cell_type": "markdown",
   "metadata": {},
   "source": [
    "**Assignment (15 min)**: Use your gained knowledge on the `Year_of_Release` column to identify 4 very strange cases. Then print a dataframe that only contains the rows of the strange cases. Don't know what you're looking for? Take a good look at the filename of your dataset, and then take a good look at all the unique values in the column."
   ]
  },
  {
   "cell_type": "code",
   "execution_count": null,
   "metadata": {},
   "outputs": [],
   "source": [
    "mask = df[\"Year_of_Release\"] > 2016\n",
    "df[mask]"
   ]
  },
  {
   "cell_type": "markdown",
   "metadata": {},
   "source": [
    "**Assignment (5 min)**: Revisit the list of questions from earlier. Have the answers for any of them changed?"
   ]
  },
  {
   "cell_type": "code",
   "execution_count": null,
   "metadata": {},
   "outputs": [],
   "source": []
  },
  {
   "cell_type": "markdown",
   "metadata": {},
   "source": [
    "## Grouping and sorting\n",
    "\n",
    "Sometimes it can be very useful to group some data together. The `df[\"column_name\"].value_counts()` function you have used, is actually a shortcut function to writing `df.groupby(column_name)[\"column_name\"].count()`. The first one is... a bit easier though, right? Let's see what grouping can do for us."
   ]
  },
  {
   "cell_type": "code",
   "execution_count": null,
   "metadata": {},
   "outputs": [],
   "source": [
    "df.groupby(\"Name\")[\"EU_Sales\"].sum().sort_values()"
   ]
  },
  {
   "cell_type": "markdown",
   "metadata": {},
   "source": [
    "Wooooaaaah, not so fast. What is going on?\n",
    "\n",
    "First, create a dataframe that is grouped by name. For example, all Need for Speed: Most Wanted games will be thrown onto one big heap."
   ]
  },
  {
   "cell_type": "code",
   "execution_count": null,
   "metadata": {},
   "outputs": [],
   "source": [
    "grouped_df =  df.groupby(\"Name\")\n",
    "grouped_df"
   ]
  },
  {
   "cell_type": "markdown",
   "metadata": {},
   "source": [
    "Now let's check some of the columns, pick anyone you find interesting! It returns a very vague object again. This is because some of the rows (in this case, all the duplicated Name rows) have been thrown onto one big heap. Pandas has no clue what platform to show, or what Critic_Score or what EU_Sales."
   ]
  },
  {
   "cell_type": "code",
   "execution_count": null,
   "metadata": {},
   "outputs": [],
   "source": [
    "grouped_df[\"EU_Sales\"]"
   ]
  },
  {
   "cell_type": "markdown",
   "metadata": {},
   "source": [
    "But we can use that vague object to do some cool stuff on. For example, let's take the sum of all the sales for a game in the EU. This return a Pandas Series object (an array) again."
   ]
  },
  {
   "cell_type": "code",
   "execution_count": null,
   "metadata": {},
   "outputs": [],
   "source": [
    "grouped_df[\"EU_Sales\"].sum()"
   ]
  },
  {
   "cell_type": "markdown",
   "metadata": {},
   "source": [
    "**Assignment (5 min)**: Take a moment to step back and check the three code cells above. Why does this summing of a vague `groupby` object work? Feel free to draw it out, use the internet, come up with a simpler, imaginary dataset, etc."
   ]
  },
  {
   "cell_type": "code",
   "execution_count": null,
   "metadata": {},
   "outputs": [],
   "source": []
  },
  {
   "cell_type": "markdown",
   "metadata": {},
   "source": [
    "This series object is usable, but it can be improved. Let's sort it so that we can see what games have sold very well, and which ones haven't sold at all."
   ]
  },
  {
   "cell_type": "code",
   "execution_count": null,
   "metadata": {},
   "outputs": [],
   "source": [
    "grouped_df[\"EU_Sales\"].sum().sort_values()"
   ]
  },
  {
   "cell_type": "markdown",
   "metadata": {},
   "source": [
    "## Slicing and dicing\n",
    "\n",
    "Lists, arrays and other iterable objects (such as Pandas Series) can be sliced in Python. It looks strange but works very intuitively. Very often, you will use the `:` operator. You can read that as \"everything before/after\"."
   ]
  },
  {
   "cell_type": "code",
   "execution_count": null,
   "metadata": {},
   "outputs": [],
   "source": [
    "example_list = [10, 20, 30, 40, 50, 60, 70, 80, 90, 100]\n",
    "print(example_list)"
   ]
  },
  {
   "cell_type": "code",
   "execution_count": null,
   "metadata": {},
   "outputs": [],
   "source": [
    "# Print all the items from index 5 onwards. Read it as: \"print index 5 and everything after\"\n",
    "print(example_list[5:])\n",
    "\n",
    "# Print all the items up to index 5. Read it as: \"print everything before index 5\"\n",
    "print(example_list[:5])\n",
    "\n",
    "#Print all the items between index 2 and 7. Read it as \"print index 2 and everything after, but before index 7\"\n",
    "print(example_list[2:7])"
   ]
  },
  {
   "cell_type": "markdown",
   "metadata": {},
   "source": [
    "Python also support negative indexes. When you use these, you basically start counting at the end of the list instead of the beginning."
   ]
  },
  {
   "cell_type": "code",
   "execution_count": null,
   "metadata": {},
   "outputs": [],
   "source": [
    "# Print the last item in the list\n",
    "print(example_list[-1])\n",
    "\n",
    "# Print the last three items in the list. Read it as \"print index 3 and everything after while starting at the end of the list\"\n",
    "print(example_list[-3:])\n",
    "\n",
    "# Print all the items up to the index. Read it as \"print everything before index 3 while starting at the end of the list\"\n",
    "print(example_list[:-3])"
   ]
  },
  {
   "cell_type": "markdown",
   "metadata": {},
   "source": [
    "## Putting it all together\n",
    "\n",
    "Let's take the top 5 of the sorted EU sales we calculated earlier."
   ]
  },
  {
   "cell_type": "code",
   "execution_count": null,
   "metadata": {},
   "outputs": [],
   "source": [
    "grouped_df[\"EU_Sales\"].sum().sort_values()[-5:]"
   ]
  },
  {
   "cell_type": "markdown",
   "metadata": {},
   "source": [
    "Turns out people like a Wii, soccer and shooting each other, huh?"
   ]
  },
  {
   "cell_type": "markdown",
   "metadata": {},
   "source": [
    "**Assignment (20 to 30 minutes)**: Find the the top 5 games that are scored 80 or higher by at least 25 critics, sorted on global sales. You **do not** have to take measures to prevent games that were re-released (like NFS: Most Wanted) from polluting the data. For this exercise, you may just mash them together :)"
   ]
  },
  {
   "cell_type": "code",
   "execution_count": null,
   "metadata": {},
   "outputs": [],
   "source": []
  },
  {
   "cell_type": "markdown",
   "metadata": {},
   "source": [
    "## That's all, folks!\n",
    "\n",
    "Pandas is a very powerful library and can do a lot more than we've seen today. On Learn is a cheat sheet with some common commands for use cases you will probably all run into.\n",
    "\n",
    "Feel like you need some extra exercise? The Kaggle tutorial on Pandas covers most of what you will need this semester and takes about 1.5-2 hours to complete: https://www.kaggle.com/learn/pandas"
   ]
  }
 ],
 "metadata": {
  "kernelspec": {
   "display_name": "Python 3",
   "language": "python",
   "name": "python3"
  },
  "language_info": {
   "codemirror_mode": {
    "name": "ipython",
    "version": 3
   },
   "file_extension": ".py",
   "mimetype": "text/x-python",
   "name": "python",
   "nbconvert_exporter": "python",
   "pygments_lexer": "ipython3",
   "version": "3.8.5"
  }
 },
 "nbformat": 4,
 "nbformat_minor": 4
}
