{
 "cells": [
  {
   "cell_type": "code",
   "execution_count": null,
   "metadata": {},
   "outputs": [],
   "source": [
    "import random"
   ]
  },
  {
   "cell_type": "code",
   "execution_count": null,
   "metadata": {},
   "outputs": [],
   "source": [
    "print(\"Hello World!\")"
   ]
  },
  {
   "cell_type": "code",
   "execution_count": null,
   "metadata": {},
   "outputs": [],
   "source": [
    "full_name = 'Tim Kardol'\n",
    "age = 20\n",
    "hobbys = ['Gaming', 'Reading']"
   ]
  },
  {
   "cell_type": "code",
   "execution_count": null,
   "metadata": {},
   "outputs": [],
   "source": [
    "print(full_name, age, hobbys[0], hobbys[1])"
   ]
  },
  {
   "cell_type": "code",
   "execution_count": null,
   "metadata": {},
   "outputs": [],
   "source": [
    "hobbys = ['Not gaming', 'Not Reading']"
   ]
  },
  {
   "cell_type": "code",
   "execution_count": null,
   "metadata": {},
   "outputs": [],
   "source": [
    "som = 5 * 3 - 6 + 8 / 2 -4 * 3\n",
    "text = \"5 * 3 - 6 + 8 / 2 -4 * 3\""
   ]
  },
  {
   "cell_type": "code",
   "execution_count": null,
   "metadata": {},
   "outputs": [],
   "source": [
    "print(text, \"=\", som)"
   ]
  },
  {
   "cell_type": "code",
   "execution_count": null,
   "metadata": {},
   "outputs": [],
   "source": [
    "if 5 > 1: \n",
    "    print('Yay!')\n",
    "else: \n",
    "    print('Eeeeeh...')\n"
   ]
  },
  {
   "cell_type": "code",
   "execution_count": null,
   "metadata": {},
   "outputs": [],
   "source": [
    "r = random.randrange(100)\n",
    "print(r)\n",
    "\n",
    "if r < 50:\n",
    "    print(\"Lower\")\n",
    "elif (r >= 50 & r <= 75):\n",
    "    print(\"Better\")\n",
    "else:\n",
    "    print(\"Bestest\")"
   ]
  },
  {
   "cell_type": "code",
   "execution_count": null,
   "metadata": {},
   "outputs": [],
   "source": [
    "i = 0\n",
    "while i < 10:\n",
    "    print (i)\n",
    "    i += 1"
   ]
  },
  {
   "cell_type": "markdown",
   "metadata": {},
   "source": [
    "## Data Types\n",
    "\n",
    "### Integer\n",
    "    Hele getallen\n",
    "### String\n",
    "    gewoon letters jonguh\n",
    "### Boolean\n",
    "    True or False\n",
    "### Float\n",
    "    Kommagetallen\n",
    "### None\n",
    "    Helemaal kut, gewoon vergeten die handel niet meer aanraken"
   ]
  },
  {
   "cell_type": "code",
   "execution_count": 1,
   "metadata": {},
   "outputs": [],
   "source": [
    "def count_down_from(num):\n",
    "    if num < 1:\n",
    "        print(\"Mag niet\")\n",
    "    else:\n",
    "        while num > 0:\n",
    "            print(num)\n",
    "            num -= 1"
   ]
  },
  {
   "cell_type": "code",
   "execution_count": 7,
   "metadata": {},
   "outputs": [
    {
     "name": "stdout",
     "output_type": "stream",
     "text": [
      "10\n",
      "9\n",
      "8\n",
      "7\n",
      "6\n",
      "5\n",
      "4\n",
      "3\n",
      "2\n",
      "1\n"
     ]
    }
   ],
   "source": [
    "count_down_from(10)"
   ]
  },
  {
   "cell_type": "code",
   "execution_count": 1,
   "metadata": {},
   "outputs": [],
   "source": [
    "def my():\n",
    "    return \"precious\""
   ]
  },
  {
   "cell_type": "code",
   "execution_count": 4,
   "metadata": {},
   "outputs": [
    {
     "data": {
      "text/plain": [
       "'precious'"
      ]
     },
     "execution_count": 4,
     "metadata": {},
     "output_type": "execute_result"
    }
   ],
   "source": [
    "my()"
   ]
  },
  {
   "cell_type": "code",
   "execution_count": 9,
   "metadata": {},
   "outputs": [],
   "source": [
    "favourite_songs = [\"Mr.Brightside\", \"Fortunate Son\", \"Het regent zonnestralen\", \"You and Me\"]"
   ]
  },
  {
   "cell_type": "code",
   "execution_count": 10,
   "metadata": {},
   "outputs": [
    {
     "name": "stdout",
     "output_type": "stream",
     "text": [
      "['Mr.Brightside', 'Fortunate Son', 'Het regent zonnestralen', 'You and Me']\n"
     ]
    }
   ],
   "source": [
    "print(favourite_songs)"
   ]
  },
  {
   "cell_type": "code",
   "execution_count": 12,
   "metadata": {},
   "outputs": [
    {
     "name": "stdout",
     "output_type": "stream",
     "text": [
      "Tim\n",
      "Programmeren\n"
     ]
    }
   ],
   "source": [
    "me = {\n",
    "    \"name\": \"Tim\",\n",
    "    \"age\": 20,\n",
    "    \"favourite_song\": \"Het regent zonnestralen\",\n",
    "    \"hobbies\": [\"Gamen\", \"Programmeren\", \"Twitch Streams kijken\"]\n",
    "}\n",
    "\n",
    "print(me[\"name\"])\n",
    "print(me[\"hobbies\"][1])"
   ]
  },
  {
   "cell_type": "code",
   "execution_count": null,
   "metadata": {},
   "outputs": [],
   "source": []
  }
 ],
 "metadata": {
  "kernelspec": {
   "display_name": "Python 3",
   "language": "python",
   "name": "python3"
  },
  "language_info": {
   "codemirror_mode": {
    "name": "ipython",
    "version": 3
   },
   "file_extension": ".py",
   "mimetype": "text/x-python",
   "name": "python",
   "nbconvert_exporter": "python",
   "pygments_lexer": "ipython3",
   "version": "3.8.5"
  }
 },
 "nbformat": 4,
 "nbformat_minor": 4
}
